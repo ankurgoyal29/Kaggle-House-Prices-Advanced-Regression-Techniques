{
 "cells": [
  {
   "cell_type": "code",
   "execution_count": 1,
   "id": "mineral-female",
   "metadata": {
    "_cell_guid": "b1076dfc-b9ad-4769-8c92-a6c4dae69d19",
    "_uuid": "8f2839f25d086af736a60e9eeb907d3b93b6e0e5",
    "execution": {
     "iopub.execute_input": "2021-03-16T22:51:23.399421Z",
     "iopub.status.busy": "2021-03-16T22:51:23.398145Z",
     "iopub.status.idle": "2021-03-16T22:51:25.309075Z",
     "shell.execute_reply": "2021-03-16T22:51:25.308096Z"
    },
    "papermill": {
     "duration": 1.931572,
     "end_time": "2021-03-16T22:51:25.309412",
     "exception": false,
     "start_time": "2021-03-16T22:51:23.377840",
     "status": "completed"
    },
    "tags": []
   },
   "outputs": [],
   "source": [
    "import pandas as pd\n",
    "import numpy as np\n",
    "import matplotlib.pyplot as plt\n",
    "import seaborn as sns\n",
    "\n",
    "\n",
    "from sklearn.linear_model import Ridge, RidgeCV, ElasticNet, LassoCV, LassoLarsCV\n",
    "from sklearn.model_selection import cross_val_score\n",
    "import matplotlib\n",
    "from scipy.stats import skew\n",
    "from scipy.stats.stats import pearsonr\n",
    "from scipy import stats\n",
    "import xgboost as xgb\n",
    "from scipy.stats import norm\n",
    "#from pyglmnet import GLM # Marco: need to understand how to install this \n",
    "from sklearn.preprocessing import StandardScaler\n",
    "\n",
    "%matplotlib inline\n",
    "\n",
    "sns.set_style(\"whitegrid\")\n",
    "# sns.set(rc={'axes.facecolor':'white', 'figure.facecolor':'white'})\n",
    "#plt.style.use('ggplot')"
   ]
  },
  {
   "cell_type": "code",
   "execution_count": 2,
   "id": "tribal-cruise",
   "metadata": {
    "execution": {
     "iopub.execute_input": "2021-03-16T22:51:25.346395Z",
     "iopub.status.busy": "2021-03-16T22:51:25.345679Z",
     "iopub.status.idle": "2021-03-16T22:51:25.441405Z",
     "shell.execute_reply": "2021-03-16T22:51:25.440613Z"
    },
    "papermill": {
     "duration": 0.115769,
     "end_time": "2021-03-16T22:51:25.441567",
     "exception": false,
     "start_time": "2021-03-16T22:51:25.325798",
     "status": "completed"
    },
    "tags": []
   },
   "outputs": [],
   "source": [
    "train = pd.read_csv(\"../input/house-prices-advanced-regression-techniques/train.csv\")\n",
    "test = pd.read_csv(\"../input/house-prices-advanced-regression-techniques/test.csv\")"
   ]
  },
  {
   "cell_type": "code",
   "execution_count": 3,
   "id": "criminal-manhattan",
   "metadata": {
    "execution": {
     "iopub.execute_input": "2021-03-16T22:51:25.487627Z",
     "iopub.status.busy": "2021-03-16T22:51:25.486591Z",
     "iopub.status.idle": "2021-03-16T22:51:25.489643Z",
     "shell.execute_reply": "2021-03-16T22:51:25.489014Z"
    },
    "papermill": {
     "duration": 0.033304,
     "end_time": "2021-03-16T22:51:25.489806",
     "exception": false,
     "start_time": "2021-03-16T22:51:25.456502",
     "status": "completed"
    },
    "tags": []
   },
   "outputs": [],
   "source": [
    "target = train['SalePrice']\n",
    "target_log = np.log1p(train['SalePrice'])"
   ]
  },
  {
   "cell_type": "code",
   "execution_count": 4,
   "id": "arranged-majority",
   "metadata": {
    "execution": {
     "iopub.execute_input": "2021-03-16T22:51:25.524871Z",
     "iopub.status.busy": "2021-03-16T22:51:25.524110Z",
     "iopub.status.idle": "2021-03-16T22:51:25.535296Z",
     "shell.execute_reply": "2021-03-16T22:51:25.534679Z"
    },
    "papermill": {
     "duration": 0.029993,
     "end_time": "2021-03-16T22:51:25.535450",
     "exception": false,
     "start_time": "2021-03-16T22:51:25.505457",
     "status": "completed"
    },
    "tags": []
   },
   "outputs": [],
   "source": [
    "# drop target variable from train dataset\n",
    "train = train.drop([\"SalePrice\"], axis=1)"
   ]
  },
  {
   "cell_type": "code",
   "execution_count": 5,
   "id": "drawn-robert",
   "metadata": {
    "execution": {
     "iopub.execute_input": "2021-03-16T22:51:25.576484Z",
     "iopub.status.busy": "2021-03-16T22:51:25.575349Z",
     "iopub.status.idle": "2021-03-16T22:51:25.592623Z",
     "shell.execute_reply": "2021-03-16T22:51:25.591976Z"
    },
    "papermill": {
     "duration": 0.041439,
     "end_time": "2021-03-16T22:51:25.592823",
     "exception": false,
     "start_time": "2021-03-16T22:51:25.551384",
     "status": "completed"
    },
    "tags": []
   },
   "outputs": [],
   "source": [
    "data = pd.concat([train, test], ignore_index=True)"
   ]
  },
  {
   "cell_type": "code",
   "execution_count": 6,
   "id": "governing-scott",
   "metadata": {
    "execution": {
     "iopub.execute_input": "2021-03-16T22:51:25.633342Z",
     "iopub.status.busy": "2021-03-16T22:51:25.628280Z",
     "iopub.status.idle": "2021-03-16T22:51:25.643314Z",
     "shell.execute_reply": "2021-03-16T22:51:25.642523Z"
    },
    "papermill": {
     "duration": 0.035363,
     "end_time": "2021-03-16T22:51:25.643492",
     "exception": false,
     "start_time": "2021-03-16T22:51:25.608129",
     "status": "completed"
    },
    "tags": []
   },
   "outputs": [],
   "source": [
    "# save all categorical columns in list\n",
    "categorical_columns = [col for col in data.columns.values if data[col].dtype == 'object']\n",
    "\n",
    "# dataframe with categorical features\n",
    "data_cat = data[categorical_columns]\n",
    "# dataframe with numerical features\n",
    "data_num = data.drop(categorical_columns, axis=1)"
   ]
  },
  {
   "cell_type": "code",
   "execution_count": 7,
   "id": "harmful-palestinian",
   "metadata": {
    "execution": {
     "iopub.execute_input": "2021-03-16T22:51:25.681087Z",
     "iopub.status.busy": "2021-03-16T22:51:25.679958Z",
     "iopub.status.idle": "2021-03-16T22:51:25.734300Z",
     "shell.execute_reply": "2021-03-16T22:51:25.733703Z"
    },
    "papermill": {
     "duration": 0.075521,
     "end_time": "2021-03-16T22:51:25.734461",
     "exception": false,
     "start_time": "2021-03-16T22:51:25.658940",
     "status": "completed"
    },
    "tags": []
   },
   "outputs": [],
   "source": [
    "from scipy.stats import skew\n",
    "data_num_skew = data_num.apply(lambda x: skew(x.dropna()))\n",
    "data_num_skew = data_num_skew[data_num_skew > .75]\n",
    "\n",
    "# apply log + 1 transformation for all numeric features with skewnes over .75\n",
    "data_num[data_num_skew.index] = np.log1p(data_num[data_num_skew.index])"
   ]
  },
  {
   "cell_type": "markdown",
   "id": "british-stephen",
   "metadata": {
    "papermill": {
     "duration": 0.016252,
     "end_time": "2021-03-16T22:51:25.766155",
     "exception": false,
     "start_time": "2021-03-16T22:51:25.749903",
     "status": "completed"
    },
    "tags": []
   },
   "source": [
    "#### #### Handing Missing Values in Numerical Columns"
   ]
  },
  {
   "cell_type": "code",
   "execution_count": 8,
   "id": "tropical-belize",
   "metadata": {
    "execution": {
     "iopub.execute_input": "2021-03-16T22:51:25.806164Z",
     "iopub.status.busy": "2021-03-16T22:51:25.804932Z",
     "iopub.status.idle": "2021-03-16T22:51:25.835404Z",
     "shell.execute_reply": "2021-03-16T22:51:25.834681Z"
    },
    "papermill": {
     "duration": 0.053932,
     "end_time": "2021-03-16T22:51:25.835554",
     "exception": false,
     "start_time": "2021-03-16T22:51:25.781622",
     "status": "completed"
    },
    "tags": []
   },
   "outputs": [],
   "source": [
    "data_len = data_num.shape[0]\n",
    "\n",
    "# check what is percentage of missing values in categorical dataframe\n",
    "for col in data_num.columns.values:\n",
    "    missing_values = data_num[col].isnull().sum()\n",
    "    #print(\"{} - missing values: {} ({:0.2f}%)\".format(col, missing_values, missing_values/data_len*100)) \n",
    "    \n",
    "    # drop column if there is more than 50 missing values\n",
    "    if missing_values > 50:\n",
    "        #print(\"droping column: {}\".format(col))\n",
    "        data_num = data_num.drop(col, axis = 1)\n",
    "    # if there is less than 50 missing values than fill in with median valu of column\n",
    "    else:\n",
    "        #print(\"filling missing values with median in column: {}\".format(col))\n",
    "        data_num = data_num.fillna(data_num[col].median())\n",
    "    "
   ]
  },
  {
   "cell_type": "markdown",
   "id": "labeled-accuracy",
   "metadata": {
    "papermill": {
     "duration": 0.015849,
     "end_time": "2021-03-16T22:51:25.867191",
     "exception": false,
     "start_time": "2021-03-16T22:51:25.851342",
     "status": "completed"
    },
    "tags": []
   },
   "source": [
    "#### handling missing values in categorical columns"
   ]
  },
  {
   "cell_type": "code",
   "execution_count": 9,
   "id": "american-liberia",
   "metadata": {
    "execution": {
     "iopub.execute_input": "2021-03-16T22:51:25.920273Z",
     "iopub.status.busy": "2021-03-16T22:51:25.906845Z",
     "iopub.status.idle": "2021-03-16T22:51:25.960959Z",
     "shell.execute_reply": "2021-03-16T22:51:25.960062Z"
    },
    "papermill": {
     "duration": 0.07847,
     "end_time": "2021-03-16T22:51:25.961137",
     "exception": false,
     "start_time": "2021-03-16T22:51:25.882667",
     "status": "completed"
    },
    "tags": []
   },
   "outputs": [
    {
     "name": "stdout",
     "output_type": "stream",
     "text": [
      "droping column: Alley\n",
      "droping column: BsmtQual\n",
      "droping column: BsmtCond\n",
      "droping column: BsmtExposure\n",
      "droping column: BsmtFinType1\n",
      "droping column: BsmtFinType2\n",
      "droping column: FireplaceQu\n",
      "droping column: GarageType\n",
      "droping column: GarageFinish\n",
      "droping column: GarageQual\n",
      "droping column: GarageCond\n",
      "droping column: PoolQC\n",
      "droping column: Fence\n",
      "droping column: MiscFeature\n"
     ]
    }
   ],
   "source": [
    "data_len = data_cat.shape[0]\n",
    "\n",
    "# check what is percentage of missing values in categorical dataframe\n",
    "for col in data_cat.columns.values:\n",
    "    missing_values = data_cat[col].isnull().sum()\n",
    "    #print(\"{} - missing values: {} ({:0.2f}%)\".format(col, missing_values, missing_values/data_len*100)) \n",
    "    \n",
    "    # drop column if there is more than 50 missing values\n",
    "    if missing_values > 50:\n",
    "        print(\"droping column: {}\".format(col))\n",
    "        data_cat.drop(col, axis = 1)\n",
    "    # if there is less than 50 missing values than fill in with median valu of column\n",
    "    else:\n",
    "        #print(\"filling missing values with XXX: {}\".format(col))\n",
    "        #data_cat = data_cat.fillna('XXX')\n",
    "        pass\n",
    "    \n"
   ]
  },
  {
   "cell_type": "code",
   "execution_count": 10,
   "id": "controlled-alliance",
   "metadata": {
    "execution": {
     "iopub.execute_input": "2021-03-16T22:51:26.002634Z",
     "iopub.status.busy": "2021-03-16T22:51:26.000201Z",
     "iopub.status.idle": "2021-03-16T22:51:26.059135Z",
     "shell.execute_reply": "2021-03-16T22:51:26.058412Z"
    },
    "papermill": {
     "duration": 0.081623,
     "end_time": "2021-03-16T22:51:26.059303",
     "exception": false,
     "start_time": "2021-03-16T22:51:25.977680",
     "status": "completed"
    },
    "tags": []
   },
   "outputs": [],
   "source": [
    "data_cat_dummies = pd.get_dummies(data_cat)"
   ]
  },
  {
   "cell_type": "code",
   "execution_count": 11,
   "id": "illegal-convenience",
   "metadata": {
    "execution": {
     "iopub.execute_input": "2021-03-16T22:51:26.098910Z",
     "iopub.status.busy": "2021-03-16T22:51:26.098192Z",
     "iopub.status.idle": "2021-03-16T22:51:26.104771Z",
     "shell.execute_reply": "2021-03-16T22:51:26.105406Z"
    },
    "papermill": {
     "duration": 0.029771,
     "end_time": "2021-03-16T22:51:26.105623",
     "exception": false,
     "start_time": "2021-03-16T22:51:26.075852",
     "status": "completed"
    },
    "tags": []
   },
   "outputs": [],
   "source": [
    "data = pd.concat([data_num, data_cat_dummies], axis=1)"
   ]
  },
  {
   "cell_type": "code",
   "execution_count": 12,
   "id": "declared-principal",
   "metadata": {
    "execution": {
     "iopub.execute_input": "2021-03-16T22:51:26.141700Z",
     "iopub.status.busy": "2021-03-16T22:51:26.141030Z",
     "iopub.status.idle": "2021-03-16T22:51:26.153495Z",
     "shell.execute_reply": "2021-03-16T22:51:26.152676Z"
    },
    "papermill": {
     "duration": 0.031559,
     "end_time": "2021-03-16T22:51:26.153656",
     "exception": false,
     "start_time": "2021-03-16T22:51:26.122097",
     "status": "completed"
    },
    "tags": []
   },
   "outputs": [],
   "source": [
    "train = data.iloc[:len(train)-1]\n",
    "train = train.join(target_log)\n",
    "\n",
    "test = data.iloc[len(train)+1:]"
   ]
  },
  {
   "cell_type": "code",
   "execution_count": 13,
   "id": "lasting-album",
   "metadata": {
    "execution": {
     "iopub.execute_input": "2021-03-16T22:51:26.190992Z",
     "iopub.status.busy": "2021-03-16T22:51:26.189937Z",
     "iopub.status.idle": "2021-03-16T22:51:26.201581Z",
     "shell.execute_reply": "2021-03-16T22:51:26.200836Z"
    },
    "papermill": {
     "duration": 0.031558,
     "end_time": "2021-03-16T22:51:26.201758",
     "exception": false,
     "start_time": "2021-03-16T22:51:26.170200",
     "status": "completed"
    },
    "tags": []
   },
   "outputs": [],
   "source": [
    "# remove Id and target variable\n",
    "X_train = train[train.columns.values[1:-1]]\n",
    "y_train = train[train.columns.values[-1]]\n",
    "\n",
    "# remove Id\n",
    "X_test = test[test.columns.values[1:]]"
   ]
  },
  {
   "cell_type": "markdown",
   "id": "beneficial-brief",
   "metadata": {
    "papermill": {
     "duration": 0.016051,
     "end_time": "2021-03-16T22:51:26.234406",
     "exception": false,
     "start_time": "2021-03-16T22:51:26.218355",
     "status": "completed"
    },
    "tags": []
   },
   "source": [
    "#### Random Forest"
   ]
  },
  {
   "cell_type": "code",
   "execution_count": 14,
   "id": "regulation-present",
   "metadata": {
    "execution": {
     "iopub.execute_input": "2021-03-16T22:51:26.279633Z",
     "iopub.status.busy": "2021-03-16T22:51:26.278779Z",
     "iopub.status.idle": "2021-03-16T22:51:32.448106Z",
     "shell.execute_reply": "2021-03-16T22:51:32.448679Z"
    },
    "papermill": {
     "duration": 6.198037,
     "end_time": "2021-03-16T22:51:32.448901",
     "exception": false,
     "start_time": "2021-03-16T22:51:26.250864",
     "status": "completed"
    },
    "tags": []
   },
   "outputs": [
    {
     "data": {
      "image/png": "[encoded data removed]",
      "text/plain": [
       "<Figure size 720x360 with 1 Axes>"
      ]
     },
     "metadata": {
      "needs_background": "light"
     },
     "output_type": "display_data"
    }
   ],
   "source": [
    "from sklearn.ensemble import RandomForestRegressor\n",
    "from sklearn.model_selection import train_test_split\n",
    "import matplotlib.pyplot as plt\n",
    "from sklearn.model_selection import cross_val_score\n",
    "\n",
    "\n",
    "%matplotlib inline\n",
    "\n",
    "X_train1, X_test1, y_train1, y_test1 = train_test_split(X_train, y_train )\n",
    "model_rf = RandomForestRegressor(n_estimators=500, n_jobs=-1)\n",
    "\n",
    "model_rf.fit(X_train1, y_train1)\n",
    "rf_pred = model_rf.predict(X_test1)\n",
    "\n",
    "plt.figure(figsize=(10, 5))\n",
    "plt.scatter(y_test1, rf_pred, s=20)\n",
    "plt.title('Predicted vs. Actual')\n",
    "plt.xlabel('Actual Sale Price')\n",
    "plt.ylabel('Predicted Sale Price')\n",
    "\n",
    "plt.plot([min(y_test1), max(y_test1)], [min(y_test1), max(y_test1)])\n",
    "plt.tight_layout()"
   ]
  },
  {
   "cell_type": "code",
   "execution_count": 15,
   "id": "earlier-alcohol",
   "metadata": {
    "execution": {
     "iopub.execute_input": "2021-03-16T22:51:32.495328Z",
     "iopub.status.busy": "2021-03-16T22:51:32.494578Z",
     "iopub.status.idle": "2021-03-16T22:51:39.867016Z",
     "shell.execute_reply": "2021-03-16T22:51:39.866329Z"
    },
    "papermill": {
     "duration": 7.399884,
     "end_time": "2021-03-16T22:51:39.867215",
     "exception": false,
     "start_time": "2021-03-16T22:51:32.467331",
     "status": "completed"
    },
    "tags": []
   },
   "outputs": [],
   "source": [
    "model_rf.fit(X_train,y_train)\n",
    "rf_pred_log = model_rf.predict(X_test)"
   ]
  },
  {
   "cell_type": "code",
   "execution_count": 16,
   "id": "convinced-laundry",
   "metadata": {
    "execution": {
     "iopub.execute_input": "2021-03-16T22:51:39.912412Z",
     "iopub.status.busy": "2021-03-16T22:51:39.911586Z",
     "iopub.status.idle": "2021-03-16T22:51:39.913910Z",
     "shell.execute_reply": "2021-03-16T22:51:39.914468Z"
    },
    "papermill": {
     "duration": 0.027587,
     "end_time": "2021-03-16T22:51:39.914655",
     "exception": false,
     "start_time": "2021-03-16T22:51:39.887068",
     "status": "completed"
    },
    "tags": []
   },
   "outputs": [],
   "source": [
    "submission = pd.DataFrame({'Id':test['Id'], 'SalePrice':np.expm1(rf_pred_log)})"
   ]
  },
  {
   "cell_type": "code",
   "execution_count": 17,
   "id": "surprising-constitutional",
   "metadata": {
    "execution": {
     "iopub.execute_input": "2021-03-16T22:51:39.955138Z",
     "iopub.status.busy": "2021-03-16T22:51:39.954385Z",
     "iopub.status.idle": "2021-03-16T22:51:39.969794Z",
     "shell.execute_reply": "2021-03-16T22:51:39.969038Z"
    },
    "papermill": {
     "duration": 0.036961,
     "end_time": "2021-03-16T22:51:39.969956",
     "exception": false,
     "start_time": "2021-03-16T22:51:39.932995",
     "status": "completed"
    },
    "tags": []
   },
   "outputs": [],
   "source": [
    "submission.to_csv(\"random_forest.csv\", index=False)"
   ]
  },
  {
   "cell_type": "code",
   "execution_count": null,
   "id": "reflected-commodity",
   "metadata": {
    "papermill": {
     "duration": 0.018253,
     "end_time": "2021-03-16T22:51:40.007296",
     "exception": false,
     "start_time": "2021-03-16T22:51:39.989043",
     "status": "completed"
    },
    "tags": []
   },
   "outputs": [],
   "source": []
  }
 ],
 "metadata": {
  "kernelspec": {
   "display_name": "Python 3",
   "language": "python",
   "name": "python3"
  },
  "language_info": {
   "codemirror_mode": {
    "name": "ipython",
    "version": 3
   },
   "file_extension": ".py",
   "mimetype": "text/x-python",
   "name": "python",
   "nbconvert_exporter": "python",
   "pygments_lexer": "ipython3",
   "version": "3.7.9"
  },
  "papermill": {
   "default_parameters": {},
   "duration": 24.723419,
   "end_time": "2021-03-16T22:51:40.739774",
   "environment_variables": {},
   "exception": null,
   "input_path": "__notebook__.ipynb",
   "output_path": "__notebook__.ipynb",
   "parameters": {},
   "start_time": "2021-03-16T22:51:16.016355",
   "version": "2.3.2"
  }
 },
 "nbformat": 4,
 "nbformat_minor": 5
}
